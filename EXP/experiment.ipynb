{
 "cells": [
  {
   "cell_type": "code",
   "execution_count": 1,
   "id": "45ff7ba8",
   "metadata": {},
   "outputs": [],
   "source": [
    "#! pip install contractions\n",
    "#! pip install nltk\n",
    "#! pip install scikit-learn\n",
    "#! pip install imblearn\n",
    "#! pip install pandas\n",
    "#! pip install matplotlib\n",
    "#! pip install seaborn"
   ]
  },
  {
   "cell_type": "code",
   "execution_count": 2,
   "id": "e5202ac2",
   "metadata": {},
   "outputs": [
    {
     "name": "stderr",
     "output_type": "stream",
     "text": [
      "[nltk_data] Downloading package stopwords to\n",
      "[nltk_data]     C:\\Users\\massi\\AppData\\Roaming\\nltk_data...\n",
      "[nltk_data]   Package stopwords is already up-to-date!\n",
      "[nltk_data] Downloading package wordnet to\n",
      "[nltk_data]     C:\\Users\\massi\\AppData\\Roaming\\nltk_data...\n",
      "[nltk_data]   Package wordnet is already up-to-date!\n",
      "[nltk_data] Downloading package omw-1.4 to\n",
      "[nltk_data]     C:\\Users\\massi\\AppData\\Roaming\\nltk_data...\n",
      "[nltk_data]   Package omw-1.4 is already up-to-date!\n"
     ]
    }
   ],
   "source": [
    "import dataset_preprocessing"
   ]
  },
  {
   "cell_type": "code",
   "execution_count": 3,
   "id": "d65a0b4e",
   "metadata": {},
   "outputs": [
    {
     "name": "stdout",
     "output_type": "stream",
     "text": [
      "Race\n",
      "4806\n",
      "0.26351573637460246\n",
      "Religion\n",
      "3953\n",
      "0.21674525715538984\n",
      "Gender\n",
      "1584\n",
      "0.08685162846803378\n",
      "Sexual Orientation\n",
      "1837\n",
      "0.10072376357056695\n",
      "Miscellaneous\n",
      "8162\n",
      "0.44752714113389624\n"
     ]
    }
   ],
   "source": [
    "# Read the dataset proposed by the authors of the paper and trasform it to a csv file\n",
    "# with three columns: label, target and corpus\n",
    "dataset_preprocessing.json_to_csv('hatexplain.json', 'hatexplain.csv')\n",
    "dataset_preprocessing.restructure_dataset('hatexplain.csv')"
   ]
  },
  {
   "cell_type": "code",
   "execution_count": 4,
   "id": "ebbabb69",
   "metadata": {},
   "outputs": [],
   "source": [
    "import train_classifier"
   ]
  },
  {
   "cell_type": "code",
   "execution_count": 5,
   "id": "124378bb",
   "metadata": {},
   "outputs": [
    {
     "name": "stdout",
     "output_type": "stream",
     "text": [
      "['Race', 'Religion', 'Gender', 'Sexual Orientation', 'Miscellaneous', 'label']\n",
      "[0, 1]\n",
      "accuracy score:  0.8656798245614035\n",
      "f1 score:  0.7623666343355966\n",
      "[0, 1]\n",
      "accuracy score:  0.9213267543859649\n",
      "f1 score:  0.8379446640316206\n",
      "[0, 1]\n",
      "accuracy score:  0.8788377192982456\n",
      "f1 score:  0.543388429752066\n",
      "[0, 1]\n",
      "accuracy score:  0.9462719298245614\n",
      "f1 score:  0.775229357798165\n",
      "[0, 1]\n",
      "accuracy score:  0.7804276315789473\n",
      "f1 score:  0.7637864936596874\n",
      "['normal', 'offensive', 'hatespeech']\n",
      "accuracy score:  0.6461074561403509\n"
     ]
    }
   ],
   "source": [
    "classifierList = dataset_preprocessing.target_groups\n",
    "classifierList.append('label')\n",
    "print(classifierList)\n",
    "train_classifier.train_and_save_classifiers('hatexplainV2.csv', classifierList)\n"
   ]
  }
 ],
 "metadata": {
  "kernelspec": {
   "display_name": "Python 3.9.13 64-bit (microsoft store)",
   "language": "python",
   "name": "python3"
  },
  "language_info": {
   "codemirror_mode": {
    "name": "ipython",
    "version": 3
   },
   "file_extension": ".py",
   "mimetype": "text/x-python",
   "name": "python",
   "nbconvert_exporter": "python",
   "pygments_lexer": "ipython3",
   "version": "3.9.13"
  },
  "vscode": {
   "interpreter": {
    "hash": "73c8ddcaa37daeaa6283152f63f94cb94982f51d522ba87773620c50e8f0d2b9"
   }
  }
 },
 "nbformat": 4,
 "nbformat_minor": 5
}
