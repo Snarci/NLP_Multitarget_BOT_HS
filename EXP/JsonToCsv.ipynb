{
 "cells": [
  {
   "cell_type": "code",
   "execution_count": 1,
   "id": "e5202ac2",
   "metadata": {},
   "outputs": [],
   "source": [
    "import dataset_preprocessing"
   ]
  },
  {
   "cell_type": "code",
   "execution_count": 2,
   "id": "d65a0b4e",
   "metadata": {},
   "outputs": [],
   "source": [
    "# Read the dataset proposed by the authors of the paper and trasform it to a csv file\n",
    "# with three columns: label, target and corpus\n",
    "dataset_preprocessing.json_to_csv('hatexplain.json', 'hatexplain.csv')\n",
    "dataset_preprocessing.delete_column('hatexplain.csv', 'rationales')\n",
    "dataset_preprocessing.modify_columns('hatexplain.csv', 'annotators')"
   ]
  }
 ],
 "metadata": {
  "kernelspec": {
   "display_name": "Python 3.9.13 64-bit (microsoft store)",
   "language": "python",
   "name": "python3"
  },
  "language_info": {
   "codemirror_mode": {
    "name": "ipython",
    "version": 3
   },
   "file_extension": ".py",
   "mimetype": "text/x-python",
   "name": "python",
   "nbconvert_exporter": "python",
   "pygments_lexer": "ipython3",
   "version": "3.9.13"
  },
  "vscode": {
   "interpreter": {
    "hash": "73c8ddcaa37daeaa6283152f63f94cb94982f51d522ba87773620c50e8f0d2b9"
   }
  }
 },
 "nbformat": 4,
 "nbformat_minor": 5
}
