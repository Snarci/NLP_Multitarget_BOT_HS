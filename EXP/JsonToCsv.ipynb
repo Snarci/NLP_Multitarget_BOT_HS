{
 "cells": [
  {
   "cell_type": "code",
   "execution_count": 1,
   "id": "45ff7ba8",
   "metadata": {},
   "outputs": [],
   "source": [
    "#! pip install contractions\n",
    "#! pip install nltk\n",
    "#! pip install scikit-learn\n",
    "#! pip install imblearn\n",
    "#! pip install pandas\n",
    "! pip install matplotlib\n",
    "! pip install seaborn"
   ]
  },
  {
   "cell_type": "code",
   "execution_count": 2,
   "id": "e5202ac2",
   "metadata": {},
   "outputs": [
    {
     "name": "stderr",
     "output_type": "stream",
     "text": [
      "[nltk_data] Downloading package stopwords to\n",
      "[nltk_data]     C:\\Users\\massi\\AppData\\Roaming\\nltk_data...\n",
      "[nltk_data]   Package stopwords is already up-to-date!\n",
      "[nltk_data] Downloading package wordnet to\n",
      "[nltk_data]     C:\\Users\\massi\\AppData\\Roaming\\nltk_data...\n",
      "[nltk_data]   Package wordnet is already up-to-date!\n",
      "[nltk_data] Downloading package omw-1.4 to\n",
      "[nltk_data]     C:\\Users\\massi\\AppData\\Roaming\\nltk_data...\n",
      "[nltk_data]   Package omw-1.4 is already up-to-date!\n"
     ]
    }
   ],
   "source": [
    "import dataset_preprocessing"
   ]
  },
  {
   "cell_type": "code",
   "execution_count": 3,
   "id": "d65a0b4e",
   "metadata": {},
   "outputs": [
    {
     "name": "stdout",
     "output_type": "stream",
     "text": [
      "Race\n",
      "7099\n",
      "0.38924224147384584\n",
      "Religion\n",
      "3953\n",
      "0.21674525715538984\n",
      "Gender\n",
      "1584\n",
      "0.08685162846803378\n",
      "Sexual Orientation\n",
      "1837\n",
      "0.10072376357056695\n",
      "Miscellaneous\n",
      "7264\n",
      "0.39828928610593267\n",
      "Economic\n",
      "9\n",
      "0.0004934751617501919\n",
      "Disability\n",
      "54\n",
      "0.0029608509705011513\n"
     ]
    }
   ],
   "source": [
    "# Read the dataset proposed by the authors of the paper and trasform it to a csv file\n",
    "# with three columns: label, target and corpus\n",
    "dataset_preprocessing.json_to_csv('hatexplain.json', 'hatexplain.csv')\n",
    "dataset_preprocessing.restructure_dataset('hatexplain.csv')"
   ]
  },
  {
   "cell_type": "code",
   "execution_count": 4,
   "id": "ebbabb69",
   "metadata": {},
   "outputs": [],
   "source": [
    "import train_classifier"
   ]
  },
  {
   "cell_type": "code",
   "execution_count": 5,
   "id": "124378bb",
   "metadata": {},
   "outputs": [
    {
     "name": "stdout",
     "output_type": "stream",
     "text": [
      "['Race', 'Religion', 'Gender', 'Sexual Orientation', 'Miscellaneous', 'Economic', 'Disability', 'label']\n",
      "Classification report:\n"
     ]
    },
    {
     "ename": "TypeError",
     "evalue": "'float' object is not subscriptable",
     "output_type": "error",
     "traceback": [
      "\u001b[1;31m---------------------------------------------------------------------------\u001b[0m",
      "\u001b[1;31mTypeError\u001b[0m                                 Traceback (most recent call last)",
      "Cell \u001b[1;32mIn [5], line 4\u001b[0m\n\u001b[0;32m      2\u001b[0m classifierList\u001b[39m.\u001b[39mappend(\u001b[39m'\u001b[39m\u001b[39mlabel\u001b[39m\u001b[39m'\u001b[39m)\n\u001b[0;32m      3\u001b[0m \u001b[39mprint\u001b[39m(classifierList)\n\u001b[1;32m----> 4\u001b[0m train_classifier\u001b[39m.\u001b[39;49mtrain_and_save_classifiers(\u001b[39m'\u001b[39;49m\u001b[39mhatexplainV2.csv\u001b[39;49m\u001b[39m'\u001b[39;49m, classifierList)\n",
      "File \u001b[1;32mc:\\Users\\massi\\Documents\\GitHub\\NLP_Multitarget_BOT_HS\\EXP\\train_classifier.py:68\u001b[0m, in \u001b[0;36mtrain_and_save_classifiers\u001b[1;34m(dataset_path, labels, test_size, need_balancing)\u001b[0m\n\u001b[0;32m     66\u001b[0m \u001b[39mdef\u001b[39;00m \u001b[39mtrain_and_save_classifiers\u001b[39m(dataset_path, labels, test_size \u001b[39m=\u001b[39m \u001b[39m0.2\u001b[39m, need_balancing \u001b[39m=\u001b[39m \u001b[39mTrue\u001b[39;00m):\n\u001b[0;32m     67\u001b[0m     \u001b[39mfor\u001b[39;00m label \u001b[39min\u001b[39;00m labels:\n\u001b[1;32m---> 68\u001b[0m         train_and_save_classifier(dataset_path, label, test_size, need_balancing)\n",
      "File \u001b[1;32mc:\\Users\\massi\\Documents\\GitHub\\NLP_Multitarget_BOT_HS\\EXP\\train_classifier.py:58\u001b[0m, in \u001b[0;36mtrain_and_save_classifier\u001b[1;34m(dataset_path, label_name, test_size, need_balancing)\u001b[0m\n\u001b[0;32m     56\u001b[0m model, X_test, y_test \u001b[39m=\u001b[39m train_model(dataset_path, label_name, test_size, need_balancing)\n\u001b[0;32m     57\u001b[0m save_model(model, label_name)\n\u001b[1;32m---> 58\u001b[0m test_model(model, X_test, y_test, label_name)\n",
      "File \u001b[1;32mc:\\Users\\massi\\Documents\\GitHub\\NLP_Multitarget_BOT_HS\\EXP\\train_classifier.py:84\u001b[0m, in \u001b[0;36mtest_model\u001b[1;34m(model, X_test, y_test, label_name)\u001b[0m\n\u001b[0;32m     82\u001b[0m \u001b[39mprint\u001b[39m(\u001b[39m\"\u001b[39m\u001b[39mClassification report:\u001b[39m\u001b[39m\"\u001b[39m)\n\u001b[0;32m     83\u001b[0m report \u001b[39m=\u001b[39m classification_report(y_test, y_pred, output_dict\u001b[39m=\u001b[39m\u001b[39mTrue\u001b[39;00m)\n\u001b[1;32m---> 84\u001b[0m classifaction_report_csv(report, label_name)\n\u001b[0;32m     86\u001b[0m \u001b[39m#print accuracy of the classifier\u001b[39;00m\n\u001b[0;32m     87\u001b[0m \u001b[39mprint\u001b[39m(\u001b[39m\"\u001b[39m\u001b[39mClassification accuracy:\u001b[39m\u001b[39m\"\u001b[39m)\n",
      "File \u001b[1;32mc:\\Users\\massi\\Documents\\GitHub\\NLP_Multitarget_BOT_HS\\EXP\\train_classifier.py:74\u001b[0m, in \u001b[0;36mclassifaction_report_csv\u001b[1;34m(report, label_name)\u001b[0m\n\u001b[0;32m     72\u001b[0m report_data \u001b[39m=\u001b[39m []\n\u001b[0;32m     73\u001b[0m \u001b[39mfor\u001b[39;00m key, value \u001b[39min\u001b[39;00m report\u001b[39m.\u001b[39mitems():\n\u001b[1;32m---> 74\u001b[0m     report_data\u001b[39m.\u001b[39mappend([key, value[\u001b[39m'\u001b[39;49m\u001b[39mprecision\u001b[39;49m\u001b[39m'\u001b[39;49m], value[\u001b[39m'\u001b[39m\u001b[39mrecall\u001b[39m\u001b[39m'\u001b[39m], value[\u001b[39m'\u001b[39m\u001b[39mf1-score\u001b[39m\u001b[39m'\u001b[39m], value[\u001b[39m'\u001b[39m\u001b[39msupport\u001b[39m\u001b[39m'\u001b[39m]])\n\u001b[0;32m     75\u001b[0m df \u001b[39m=\u001b[39m pd\u001b[39m.\u001b[39mDataFrame\u001b[39m.\u001b[39mfrom_records(report_data, columns\u001b[39m=\u001b[39m[\u001b[39m'\u001b[39m\u001b[39mclass\u001b[39m\u001b[39m'\u001b[39m, \u001b[39m'\u001b[39m\u001b[39mprecision\u001b[39m\u001b[39m'\u001b[39m, \u001b[39m'\u001b[39m\u001b[39mrecall\u001b[39m\u001b[39m'\u001b[39m, \u001b[39m'\u001b[39m\u001b[39mf1-score\u001b[39m\u001b[39m'\u001b[39m, \u001b[39m'\u001b[39m\u001b[39msupport\u001b[39m\u001b[39m'\u001b[39m])\n\u001b[0;32m     76\u001b[0m df\u001b[39m.\u001b[39mto_csv(save_path\u001b[39m+\u001b[39mlabel_name\u001b[39m+\u001b[39m\u001b[39m'\u001b[39m\u001b[39m_report.csv\u001b[39m\u001b[39m'\u001b[39m, index \u001b[39m=\u001b[39m \u001b[39mFalse\u001b[39;00m)\n",
      "\u001b[1;31mTypeError\u001b[0m: 'float' object is not subscriptable"
     ]
    }
   ],
   "source": [
    "classifierList = dataset_preprocessing.target_groups\n",
    "classifierList.append('label')\n",
    "print(classifierList)\n",
    "train_classifier.train_and_save_classifiers('hatexplainV2.csv', classifierList)\n"
   ]
  },
  {
   "cell_type": "code",
   "execution_count": null,
   "id": "17398c04",
   "metadata": {},
   "outputs": [],
   "source": []
  },
  {
   "cell_type": "code",
   "execution_count": null,
   "id": "78ad5df0",
   "metadata": {},
   "outputs": [],
   "source": []
  }
 ],
 "metadata": {
  "kernelspec": {
   "display_name": "Python 3.10.8 64-bit (microsoft store)",
   "language": "python",
   "name": "python3"
  },
  "language_info": {
   "codemirror_mode": {
    "name": "ipython",
    "version": 3
   },
   "file_extension": ".py",
   "mimetype": "text/x-python",
   "name": "python",
   "nbconvert_exporter": "python",
   "pygments_lexer": "ipython3",
   "version": "3.10.8"
  },
  "vscode": {
   "interpreter": {
    "hash": "4976831d2e113015fb6b50184cca70859cebfa48a7ec0fe9967c6f777fabd3bf"
   }
  }
 },
 "nbformat": 4,
 "nbformat_minor": 5
}
