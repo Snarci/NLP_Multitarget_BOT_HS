{
 "cells": [
  {
   "cell_type": "code",
   "execution_count": 1,
   "id": "45ff7ba8",
   "metadata": {},
   "outputs": [],
   "source": [
    "#! pip install contractions\n",
    "#! pip install nltk"
   ]
  },
  {
   "cell_type": "code",
   "execution_count": 2,
   "id": "e5202ac2",
   "metadata": {},
   "outputs": [
    {
     "name": "stderr",
     "output_type": "stream",
     "text": [
      "[nltk_data] Downloading package stopwords to\n",
      "[nltk_data]     C:\\Users\\massi\\AppData\\Roaming\\nltk_data...\n",
      "[nltk_data]   Package stopwords is already up-to-date!\n",
      "[nltk_data] Downloading package wordnet to\n",
      "[nltk_data]     C:\\Users\\massi\\AppData\\Roaming\\nltk_data...\n",
      "[nltk_data]   Package wordnet is already up-to-date!\n",
      "[nltk_data] Downloading package omw-1.4 to\n",
      "[nltk_data]     C:\\Users\\massi\\AppData\\Roaming\\nltk_data...\n",
      "[nltk_data]   Package omw-1.4 is already up-to-date!\n"
     ]
    }
   ],
   "source": [
    "import dataset_preprocessing"
   ]
  },
  {
   "cell_type": "code",
   "execution_count": 3,
   "id": "d65a0b4e",
   "metadata": {},
   "outputs": [],
   "source": [
    "# Read the dataset proposed by the authors of the paper and trasform it to a csv file\n",
    "# with three columns: label, target and corpus\n",
    "dataset_preprocessing.json_to_csv('hatexplain.json', 'hatexplain.csv')\n",
    "dataset_preprocessing.restructure_dataset('hatexplain.csv')"
   ]
  }
 ],
 "metadata": {
  "kernelspec": {
   "display_name": "Python 3.9.13 64-bit (microsoft store)",
   "language": "python",
   "name": "python3"
  },
  "language_info": {
   "codemirror_mode": {
    "name": "ipython",
    "version": 3
   },
   "file_extension": ".py",
   "mimetype": "text/x-python",
   "name": "python",
   "nbconvert_exporter": "python",
   "pygments_lexer": "ipython3",
   "version": "3.9.13"
  },
  "vscode": {
   "interpreter": {
    "hash": "73c8ddcaa37daeaa6283152f63f94cb94982f51d522ba87773620c50e8f0d2b9"
   }
  }
 },
 "nbformat": 4,
 "nbformat_minor": 5
}
