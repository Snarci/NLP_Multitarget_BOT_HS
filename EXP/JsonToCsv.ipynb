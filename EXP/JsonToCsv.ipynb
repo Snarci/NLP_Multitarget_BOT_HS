{
 "cells": [
  {
   "cell_type": "code",
   "execution_count": 1,
   "id": "45ff7ba8",
   "metadata": {},
   "outputs": [],
   "source": [
    "#! pip install contractions\n",
    "#! pip install nltk\n",
    "#! pip install scikit-learn\n",
    "#! pip install imblearn"
   ]
  },
  {
   "cell_type": "code",
   "execution_count": 2,
   "id": "e5202ac2",
   "metadata": {},
   "outputs": [
    {
     "name": "stderr",
     "output_type": "stream",
     "text": [
      "[nltk_data] Downloading package stopwords to\n",
      "[nltk_data]     C:\\Users\\massi\\AppData\\Roaming\\nltk_data...\n",
      "[nltk_data]   Package stopwords is already up-to-date!\n",
      "[nltk_data] Downloading package wordnet to\n",
      "[nltk_data]     C:\\Users\\massi\\AppData\\Roaming\\nltk_data...\n",
      "[nltk_data]   Package wordnet is already up-to-date!\n",
      "[nltk_data] Downloading package omw-1.4 to\n",
      "[nltk_data]     C:\\Users\\massi\\AppData\\Roaming\\nltk_data...\n",
      "[nltk_data]   Package omw-1.4 is already up-to-date!\n"
     ]
    }
   ],
   "source": [
    "import dataset_preprocessing"
   ]
  },
  {
   "cell_type": "code",
   "execution_count": 3,
   "id": "d65a0b4e",
   "metadata": {},
   "outputs": [],
   "source": [
    "# Read the dataset proposed by the authors of the paper and trasform it to a csv file\n",
    "# with three columns: label, target and corpus\n",
    "dataset_preprocessing.json_to_csv('hatexplain.json', 'hatexplain.csv')\n",
    "dataset_preprocessing.restructure_dataset('hatexplain.csv')"
   ]
  },
  {
   "cell_type": "code",
   "execution_count": 4,
   "id": "ebbabb69",
   "metadata": {},
   "outputs": [],
   "source": [
    "import train_classifier"
   ]
  },
  {
   "cell_type": "code",
   "execution_count": 5,
   "id": "124378bb",
   "metadata": {},
   "outputs": [
    {
     "name": "stdout",
     "output_type": "stream",
     "text": [
      "['Race', 'Religion', 'Gender', 'Sexual Orientation', 'Miscellaneous', 'Economic', 'Disability', 'label']\n",
      "Classification report:\n",
      "              precision    recall  f1-score   support\n",
      "\n",
      "           0       0.89      0.87      0.88      2237\n",
      "           1       0.80      0.83      0.82      1411\n",
      "\n",
      "    accuracy                           0.86      3648\n",
      "   macro avg       0.85      0.85      0.85      3648\n",
      "weighted avg       0.86      0.86      0.86      3648\n",
      "\n",
      "Classification accuracy:\n",
      "0.856359649122807\n",
      "Macro F1 score:\n",
      "0.8495886481428501\n",
      "Classification CM:\n",
      "[[1949  288]\n",
      " [ 236 1175]]\n",
      "Classification report:\n",
      "              precision    recall  f1-score   support\n",
      "\n",
      "           0       0.97      0.92      0.95      2834\n",
      "           1       0.78      0.91      0.84       814\n",
      "\n",
      "    accuracy                           0.92      3648\n",
      "   macro avg       0.87      0.92      0.89      3648\n",
      "weighted avg       0.93      0.92      0.92      3648\n",
      "\n",
      "Classification accuracy:\n",
      "0.9213267543859649\n",
      "Macro F1 score:\n",
      "0.8929994813370772\n",
      "Classification CM:\n",
      "[[2619  215]\n",
      " [  72  742]]\n",
      "Classification report:\n",
      "              precision    recall  f1-score   support\n",
      "\n",
      "           0       0.99      0.88      0.93      3345\n",
      "           1       0.40      0.87      0.54       303\n",
      "\n",
      "    accuracy                           0.88      3648\n",
      "   macro avg       0.69      0.87      0.74      3648\n",
      "weighted avg       0.94      0.88      0.90      3648\n",
      "\n",
      "Classification accuracy:\n",
      "0.8788377192982456\n",
      "Macro F1 score:\n",
      "0.7367700682262226\n",
      "Classification CM:\n",
      "[[2943  402]\n",
      " [  40  263]]\n",
      "Classification report:\n",
      "              precision    recall  f1-score   support\n",
      "\n",
      "           0       0.99      0.95      0.97      3280\n",
      "           1       0.67      0.92      0.78       368\n",
      "\n",
      "    accuracy                           0.95      3648\n",
      "   macro avg       0.83      0.93      0.87      3648\n",
      "weighted avg       0.96      0.95      0.95      3648\n",
      "\n",
      "Classification accuracy:\n",
      "0.9462719298245614\n",
      "Macro F1 score:\n",
      "0.8723593862465295\n",
      "Classification CM:\n",
      "[[3114  166]\n",
      " [  30  338]]\n",
      "Classification report:\n",
      "              precision    recall  f1-score   support\n",
      "\n",
      "           0       0.84      0.73      0.78      2186\n",
      "           1       0.66      0.79      0.72      1462\n",
      "\n",
      "    accuracy                           0.75      3648\n",
      "   macro avg       0.75      0.76      0.75      3648\n",
      "weighted avg       0.77      0.75      0.76      3648\n",
      "\n",
      "Classification accuracy:\n",
      "0.7535635964912281\n",
      "Macro F1 score:\n",
      "0.7497729146045227\n",
      "Classification CM:\n",
      "[[1599  587]\n",
      " [ 312 1150]]\n",
      "Classification report:\n",
      "              precision    recall  f1-score   support\n",
      "\n",
      "           0       1.00      0.97      0.99      3646\n",
      "           1       0.02      1.00      0.04         2\n",
      "\n",
      "    accuracy                           0.97      3648\n",
      "   macro avg       0.51      0.99      0.51      3648\n",
      "weighted avg       1.00      0.97      0.99      3648\n",
      "\n",
      "Classification accuracy:\n",
      "0.971765350877193\n",
      "Macro F1 score:\n",
      "0.511527866431451\n",
      "Classification CM:\n",
      "[[3543  103]\n",
      " [   0    2]]\n",
      "Classification report:\n",
      "              precision    recall  f1-score   support\n",
      "\n",
      "           0       1.00      0.95      0.97      3639\n",
      "           1       0.04      0.78      0.07         9\n",
      "\n",
      "    accuracy                           0.95      3648\n",
      "   macro avg       0.52      0.86      0.52      3648\n",
      "weighted avg       1.00      0.95      0.97      3648\n",
      "\n",
      "Classification accuracy:\n",
      "0.9479166666666666\n",
      "Macro F1 score:\n",
      "0.5209183504196941\n",
      "Classification CM:\n",
      "[[3451  188]\n",
      " [   2    7]]\n",
      "Classification report:\n",
      "              precision    recall  f1-score   support\n",
      "\n",
      "  hatespeech       0.73      0.71      0.72      1173\n",
      "      normal       0.71      0.67      0.69      1508\n",
      "   offensive       0.47      0.53      0.50       967\n",
      "\n",
      "    accuracy                           0.65      3648\n",
      "   macro avg       0.64      0.64      0.64      3648\n",
      "weighted avg       0.65      0.65      0.65      3648\n",
      "\n",
      "Classification accuracy:\n",
      "0.6461074561403509\n",
      "Macro F1 score:\n",
      "0.6364473525924232\n",
      "Classification CM:\n",
      "[[ 836  134  203]\n",
      " [ 130 1012  366]\n",
      " [ 177  281  509]]\n"
     ]
    }
   ],
   "source": [
    "classifierList = dataset_preprocessing.target_groups\n",
    "classifierList.append('label')\n",
    "print(classifierList)\n",
    "train_classifier.train_and_save_classifiers('hatexplainV2.csv', classifierList)\n"
   ]
  },
  {
   "cell_type": "code",
   "execution_count": null,
   "id": "17398c04",
   "metadata": {},
   "outputs": [],
   "source": []
  },
  {
   "cell_type": "code",
   "execution_count": null,
   "id": "78ad5df0",
   "metadata": {},
   "outputs": [],
   "source": []
  }
 ],
 "metadata": {
  "kernelspec": {
   "display_name": "Python 3.9.13 64-bit (microsoft store)",
   "language": "python",
   "name": "python3"
  },
  "language_info": {
   "codemirror_mode": {
    "name": "ipython",
    "version": 3
   },
   "file_extension": ".py",
   "mimetype": "text/x-python",
   "name": "python",
   "nbconvert_exporter": "python",
   "pygments_lexer": "ipython3",
   "version": "3.9.13"
  },
  "vscode": {
   "interpreter": {
    "hash": "73c8ddcaa37daeaa6283152f63f94cb94982f51d522ba87773620c50e8f0d2b9"
   }
  }
 },
 "nbformat": 4,
 "nbformat_minor": 5
}
